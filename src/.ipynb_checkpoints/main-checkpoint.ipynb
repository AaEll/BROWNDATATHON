{
 "cells": [
  {
   "cell_type": "code",
   "execution_count": 1,
   "metadata": {},
   "outputs": [],
   "source": [
    "import numpy as np\n",
    "import pandas as pd\n",
    "import xgboost as xgb\n",
    "import operator\n",
    "from sklearn.preprocessing import LabelEncoder\n",
    "import gc\n",
    "from sklearn.linear_model import LinearRegression\n",
    "from sklearn.ensemble import RandomForestRegressor\n",
    "import random\n",
    "import datetime as dt\n",
    "import matplotlib as plt\n",
    "%matplotlib inline\n",
    "\n",
    "\n",
    "\n",
    "def K_NN_Residuals(data, x,k = 5,n1 = 'geocode_latitude',n2 = 'geocode_longitude',target = 'res'):\n",
    "    tmp_arr = data[[n1,n2]]-np.array([x[n1],x[n2]])\n",
    "    tmp_arr = np.square(tmp_arr).sum(axis = 1)\n",
    "    ranks = tmp_arr.rank()\n",
    "    return np.sum(data[ranks<=k])[0]\n",
    "\n",
    "\n",
    "def model_fill(data,model,target):\n",
    "    \n",
    "    truth_val = pd.isna(data[target])\n",
    "    test = data[truth_val]\n",
    "    train = data[~truth_val]\n",
    "    if test.shape[0] == 0 or train.shape[0] == 0:\n",
    "        return data\n",
    "    train = train.fillna(0)\n",
    "    test  = test.fillna(0)\n",
    "    model.fit(train.drop(target,axis = 1),train[target])\n",
    "    data.loc[truth_val,target] = model.predict(test.drop(target,axis = 1))\n",
    "    \n",
    "    return data\n",
    "\n",
    "def make_one_hot_encoding(data,number_of_top_values,target):\n",
    "    top_names = list(dict(data[target].value_counts()).keys())[0:number_of_top_values]\n",
    "    for name in top_names:\n",
    "        data[name] = 0\n",
    "        data.loc[data[target] == name, name] = 1\n",
    "    data.drop([target],axis = 1, inplace = True)\n",
    "    return data\n",
    "\n",
    "def change_style_attribute(x):\n",
    "    if x.isdigit():\n",
    "        return x + \".0\"\n",
    "    else:\n",
    "        return x\n",
    "    \n",
    "def transform_date(data,target):\n",
    "    data.loc[:, target + '_int'] = pd.to_datetime(data[target]).dt.strftime(\"%Y%m%d\").astype(int)\n",
    "    data.drop(target,axis = 1, inplace = True)\n",
    "    return data\n",
    "\n",
    "def make_ordinal(data,target,ordered_list):\n",
    "    dict_ordered = {}\n",
    "    i = len(ordered_list)\n",
    "    \n",
    "    name_mod = target + '_ordinal'\n",
    "    data[name_mod] = 0\n",
    "    for name in ordered_list:\n",
    "        data.loc[data[target] == name, name_mod] = i\n",
    "        i -= 1\n",
    "    data.drop(target,axis = 1, inplace = True)\n",
    "    return data\n",
    "\n"
   ]
  },
  {
   "cell_type": "code",
   "execution_count": 2,
   "metadata": {},
   "outputs": [
    {
     "name": "stderr",
     "output_type": "stream",
     "text": [
      "/Users/aaell/anaconda3/lib/python3.7/site-packages/IPython/core/interactiveshell.py:3020: DtypeWarning: Columns (1,3,4,9,10,11,17,19,20,34,45,46,47,48,50,51,52,53,54,55,56) have mixed types. Specify dtype option on import or set low_memory=False.\n",
      "  interactivity=interactivity, compiler=compiler, result=result)\n"
     ]
    }
   ],
   "source": [
    "# Import Data\n",
    "train = pd.read_csv('../data/datathon_propattributes.csv').sample(frac = 1e-2)"
   ]
  },
  {
   "cell_type": "code",
   "execution_count": 3,
   "metadata": {},
   "outputs": [],
   "source": [
    "dropped_cols = ['irregular_lot_flg','prop_house_number_suffix','apn',\n",
    "                'IsTraining',\n",
    "                'fips_cd',\n",
    "                'prop_house_number',\n",
    "                'prop_house_number_2'  ,\n",
    "                'prop_house_number_suffix' ,\n",
    "                'prop_direction_left'  ,\n",
    "                'prop_street_name'  ,     \n",
    "                'prop_suffix'  ,\n",
    "                'prop_direction_right' ,\n",
    "                'prop_unit_number' ,\n",
    "                'prop_city' ,\n",
    "                'prop_state',\n",
    "                'prop_zip_code' ,\n",
    "                'prop_zip_plus_4',\n",
    "               'census_tract',\n",
    "               'irregular_lot_flg',\n",
    "               'tax_cd_area',\n",
    "                    'avm_std_deviation0',\n",
    "                    'avm_std_deviation1',\n",
    "                    'avm_std_deviation2',\n",
    "                    'avm_std_deviation3',\n",
    "                    'avm_std_deviation4',                \n",
    "                'tax_year']\n",
    "\n",
    "one_hots = [['dwelling_type',30],\n",
    "            ['prop_unit_type',4], # maybe drop\n",
    "            ['zoning',15],\n",
    "            ['roof_type',9],\n",
    "            ['roof_cover',13],\n",
    "            ['garage_type',14],\n",
    "            ['construction_type',13],\n",
    "            ['basement_cd',7],\n",
    "            ['style',20],\n",
    "            ['stories_cd',5],\n",
    "            ['mobile_home_ind',1],\n",
    "            ['timeshare_ind',1],\n",
    "            ['distressed_sale_flg',1]]\n",
    "\n",
    "date_cols = ['transaction_date']\n",
    "\n",
    "\n",
    "condition= ['Excellent','Good','Average','Fair','Poor','Unsound']\n",
    "Construction=['A+','A','A-','B+','B','B-','C+','C','C-','D+','D','D-','E+','E','E-']\n",
    "Air_conditioning=['Central','Refrigeration','Chilled Water','Geo-Thermal','Packaged Unit','Wall','Window\\\\Unit','Evaporative Cooler','Yes','Ventilation','Partial','Other','None']\n",
    "Heating_Type= ['Central','Zone','Geo-thermal','Solar','Forced air unit','Heat Pump','Hot Water','Electric','Steam','Floor/Wall','Space/Suspended','Baseboard','Radiant','Propane','Gas','Oil','Coal','Gravity','Other','Wood Burning','Yes','Vent','None']\n",
    "\n",
    "ordinals = [['condition',condition],\n",
    "            ['construction_quality',Construction],\n",
    "            ['air_conditioning',Air_conditioning],\n",
    "            ['heating_type',Heating_Type]]\n",
    "\n",
    "\n",
    "candidates_fill = ['assessed_total_value',\n",
    "                   'assessed_land_value',\n",
    "                   'assessed_improvement_value',\n",
    "                   'market_total_value',\n",
    "                   'market_land_value',\n",
    "                   'market_improvement_value',\n",
    "                   'tax_amt',\n",
    "                    'avm_final_value0',\n",
    "                    'avm_final_value1',\n",
    "                    'avm_final_value2'   ,            \n",
    "                    'avm_final_value3'   ,            \n",
    "                    'avm_final_value4']\n",
    "\n",
    "# Transform attributes\n",
    "train['style'] = train['style'].astype(str)\n",
    "train['style'] = train['style'].apply(change_style_attribute)\n",
    "train['stories_cd'] = train['stories_cd'].astype(str)\n",
    "\n",
    "##CONVERT STRINGS TO NUMERICAL VARIABLES##\n",
    "for target_column, number_of_top_names in one_hots:\n",
    "    make_one_hot_encoding(train,number_of_top_names,target_column)\n",
    "    \n",
    "for target_column, ordered_names in ordinals:\n",
    "    make_ordinal(train,target_column,ordered_names)\n",
    "    \n",
    "for target_column in date_cols:\n",
    "    transform_date(train,target_column)"
   ]
  },
  {
   "cell_type": "code",
   "execution_count": 4,
   "metadata": {},
   "outputs": [
    {
     "name": "stderr",
     "output_type": "stream",
     "text": [
      "/Users/aaell/anaconda3/lib/python3.7/site-packages/sklearn/ensemble/forest.py:246: FutureWarning: The default value of n_estimators will change from 10 in version 0.20 to 100 in 0.22.\n",
      "  \"10 in version 0.20 to 100 in 0.22.\", FutureWarning)\n",
      "/Users/aaell/anaconda3/lib/python3.7/site-packages/sklearn/ensemble/forest.py:246: FutureWarning: The default value of n_estimators will change from 10 in version 0.20 to 100 in 0.22.\n",
      "  \"10 in version 0.20 to 100 in 0.22.\", FutureWarning)\n",
      "/Users/aaell/anaconda3/lib/python3.7/site-packages/sklearn/ensemble/forest.py:246: FutureWarning: The default value of n_estimators will change from 10 in version 0.20 to 100 in 0.22.\n",
      "  \"10 in version 0.20 to 100 in 0.22.\", FutureWarning)\n",
      "/Users/aaell/anaconda3/lib/python3.7/site-packages/sklearn/ensemble/forest.py:246: FutureWarning: The default value of n_estimators will change from 10 in version 0.20 to 100 in 0.22.\n",
      "  \"10 in version 0.20 to 100 in 0.22.\", FutureWarning)\n",
      "/Users/aaell/anaconda3/lib/python3.7/site-packages/sklearn/ensemble/forest.py:246: FutureWarning: The default value of n_estimators will change from 10 in version 0.20 to 100 in 0.22.\n",
      "  \"10 in version 0.20 to 100 in 0.22.\", FutureWarning)\n"
     ]
    },
    {
     "data": {
      "text/plain": [
       "14"
      ]
     },
     "execution_count": 4,
     "metadata": {},
     "output_type": "execute_result"
    }
   ],
   "source": [
    "#train.apply(pd.to_numeric)\n",
    "\n",
    "##FILL MISSING DATA IN SELECT COLUMNS##\n",
    "\n",
    "fill_data = train.drop(dropped_cols+['sale_amt','geocode_longitude','geocode_latitude'], axis = 1)\n",
    "for candidate in candidates_fill:\n",
    "    model_fill(fill_data, RandomForestRegressor(), candidate)\n",
    "    \n",
    "test = train[train['IsTraining'] != 1]\n",
    "train = train[train['IsTraining'] == 1]\n",
    "train.drop(dropped_cols,axis =1 , inplace = True)\n",
    "test.drop(dropped_cols,axis =1 , inplace = True)\n",
    "del fill_data\n",
    "\n",
    "gc.collect()"
   ]
  },
  {
   "cell_type": "code",
   "execution_count": 5,
   "metadata": {},
   "outputs": [
    {
     "name": "stdout",
     "output_type": "stream",
     "text": [
      "acres                               False\n",
      "land_square_footage                 False\n",
      "assessed_total_value                False\n",
      "assessed_land_value                 False\n",
      "assessed_improvement_value          False\n",
      "market_total_value                  False\n",
      "market_land_value                   False\n",
      "market_improvement_value            False\n",
      "tax_amt                             False\n",
      "delinquent_tax_year                 False\n",
      "assessed_year                       False\n",
      "building_square_feet                False\n",
      "total_living_square_feet            False\n",
      "total_ground_floor_square_feet      False\n",
      "total_basement_square_feet          False\n",
      "total_garage_parking_square_feet    False\n",
      "year_built                          False\n",
      "effective_year_built                False\n",
      "bedrooms                            False\n",
      "total_rooms                         False\n",
      "total_baths_calculated              False\n",
      "fireplace_num                       False\n",
      "geocode_latitude                    False\n",
      "geocode_longitude                   False\n",
      "avm_final_value0                    False\n",
      "avm_final_value1                    False\n",
      "avm_final_value2                    False\n",
      "avm_final_value3                    False\n",
      "avm_final_value4                    False\n",
      "first_mtg_amt                       False\n",
      "                                    ...  \n",
      "Daylight, Partial                   False\n",
      "nan                                 False\n",
      "Colonial                            False\n",
      "Ranch\\Rambler                       False\n",
      "29.0                                False\n",
      "38.0                                False\n",
      "Conventional                        False\n",
      "Cape Cod                            False\n",
      "31.0                                False\n",
      "35.0                                False\n",
      "Raised Ranch                        False\n",
      "41.0                                False\n",
      "Contemporary                        False\n",
      "Bungalow                            False\n",
      "40.0                                False\n",
      "36.0                                False\n",
      "33.0                                False\n",
      "Historical                          False\n",
      "Traditional                         False\n",
      "34.0                                False\n",
      "200.0                               False\n",
      "100.0                               False\n",
      "300.0                               False\n",
      "150.0                               False\n",
      "Y                                   False\n",
      "condition_ordinal                   False\n",
      "construction_quality_ordinal        False\n",
      "air_conditioning_ordinal            False\n",
      "heating_type_ordinal                False\n",
      "transaction_date_int                False\n",
      "Length: 155, dtype: bool\n"
     ]
    }
   ],
   "source": [
    "# which columns contain NaN's\n",
    "train.fillna(method='bfill',inplace = True)\n",
    "print(train.isna().any())\n"
   ]
  },
  {
   "cell_type": "code",
   "execution_count": 6,
   "metadata": {},
   "outputs": [
    {
     "name": "stderr",
     "output_type": "stream",
     "text": [
      "/Users/aaell/anaconda3/lib/python3.7/site-packages/ipykernel_launcher.py:31: SettingWithCopyWarning: \n",
      "A value is trying to be set on a copy of a slice from a DataFrame.\n",
      "Try using .loc[row_indexer,col_indexer] = value instead\n",
      "\n",
      "See the caveats in the documentation: http://pandas.pydata.org/pandas-docs/stable/indexing.html#indexing-view-versus-copy\n",
      "/Users/aaell/anaconda3/lib/python3.7/site-packages/ipykernel_launcher.py:32: SettingWithCopyWarning: \n",
      "A value is trying to be set on a copy of a slice from a DataFrame.\n",
      "Try using .loc[row_indexer,col_indexer] = value instead\n",
      "\n",
      "See the caveats in the documentation: http://pandas.pydata.org/pandas-docs/stable/indexing.html#indexing-view-versus-copy\n"
     ]
    },
    {
     "data": {
      "text/plain": [
       "357"
      ]
     },
     "execution_count": 6,
     "metadata": {},
     "output_type": "execute_result"
    }
   ],
   "source": [
    "# Model Training\n",
    "\n",
    "\n",
    "\n",
    "##  XGBoost   ##\n",
    "\n",
    "x_train_first_stage = train.drop(['sale_amt','geocode_longitude','geocode_latitude'],axis = 1)\n",
    "first_stage = train[['sale_amt','geocode_longitude','geocode_latitude']]\n",
    "\n",
    "\n",
    "##### RUN XGBOOST\n",
    "\n",
    "# xgboost params\n",
    "xgb_params = {\n",
    "    'eta': 0.037,\n",
    "    'max_depth': 5,\n",
    "    'subsample': 0.80,\n",
    "    'objective': 'reg:linear',\n",
    "    'eval_metric': 'mae',\n",
    "    'lambda': 0.8,   \n",
    "    'alpha': 0.4, \n",
    "    'base_score': np.mean(first_stage.sale_amt),\n",
    "    'silent': 1\n",
    "}\n",
    "\n",
    "dtrain_first_stage = xgb.DMatrix(x_train_first_stage, first_stage.sale_amt)\n",
    "num_boost_rounds = 250\n",
    "# train model\n",
    "model = xgb.train(dict(xgb_params, silent=1), dtrain_first_stage, num_boost_round=num_boost_rounds)\n",
    "\n",
    "first_stage['pred'] = model.predict(dtrain_first_stage)\n",
    "first_stage['res'] = first_stage['pred'] - first_stage['sale_amt']\n",
    "\n",
    "apply_knn = lambda x : K_NN_Residuals(first_stage,x, k = 5)\n",
    "train['KNN'] = first_stage.apply(apply_knn,axis = 1)\n",
    "test['KNN'] = test.apply(apply_knn,axis = 1)\n",
    "\n",
    "test.drop(['geocode_longitude','geocode_latitude'],axis = 1,inplace = True)\n",
    "train.drop(['geocode_longitude','geocode_latitude'],axis = 1,inplace = True)\n",
    "del first_stage\n",
    "del dtrain_first_stage\n",
    "del model\n",
    "del x_train_first_stage\n",
    "gc.collect()"
   ]
  },
  {
   "cell_type": "code",
   "execution_count": 7,
   "metadata": {},
   "outputs": [],
   "source": [
    "x_train = train.drop(['sale_amt'],axis = 1)\n",
    "y_train = train.sale_amt\n",
    "\n",
    "x_test = test.drop(['sale_amt'],axis = 1)\n",
    "y_test = test.sale_amt\n",
    "#Create Location Param#\n",
    "##### RUN XGBOOST AGAIN\n",
    "\n",
    "# xgboost params\n",
    "xgb_params = {\n",
    "    'eta': 0.033,\n",
    "    'max_depth': 6,\n",
    "    'subsample': 0.80,\n",
    "    'objective': 'reg:linear',\n",
    "    'eval_metric': 'mae',\n",
    "    'base_score': np.mean(y_train),\n",
    "    'silent': 1\n",
    "}\n",
    "\n",
    "dtrain = xgb.DMatrix(x_train, y_train)\n",
    "dtest = xgb.DMatrix(x_test, y_test)\n",
    "\n",
    "num_boost_rounds = 150\n",
    "\n",
    "model = xgb.train(dict(xgb_params, silent=1), dtrain, num_boost_round=num_boost_rounds)\n",
    "xgb_pred = model.predict(dtest)"
   ]
  },
  {
   "cell_type": "code",
   "execution_count": 13,
   "metadata": {},
   "outputs": [
    {
     "name": "stdout",
     "output_type": "stream",
     "text": [
      "165588.72641024494\n"
     ]
    },
    {
     "data": {
      "text/plain": [
       "<matplotlib.axes._subplots.AxesSubplot at 0x1a30428f98>"
      ]
     },
     "execution_count": 13,
     "metadata": {},
     "output_type": "execute_result"
    },
    {
     "data": {
      "image/png": "[encoded data removed]",
      "text/plain": [
       "<Figure size 432x288 with 1 Axes>"
      ]
     },
     "metadata": {
      "needs_background": "light"
     },
     "output_type": "display_data"
    }
   ],
   "source": [
    "def MAE(y, ypred):\n",
    "    #logerror=log(Zestimate)−log(SalePrice)\n",
    "    return np.sum(np.abs(y-ypred)) / len(y)\n",
    "\n",
    "print(MAE(y_test, xgb_pred))\n",
    "xgb.plot_importance(model, max_num_features=50, height=0.8)"
   ]
  },
  {
   "cell_type": "code",
   "execution_count": null,
   "metadata": {},
   "outputs": [],
   "source": [
    "model_100 = model\n"
   ]
  },
  {
   "cell_type": "code",
   "execution_count": null,
   "metadata": {},
   "outputs": [],
   "source": []
  }
 ],
 "metadata": {
  "kernelspec": {
   "display_name": "Python 3",
   "language": "python",
   "name": "python3"
  },
  "language_info": {
   "codemirror_mode": {
    "name": "ipython",
    "version": 3
   },
   "file_extension": ".py",
   "mimetype": "text/x-python",
   "name": "python",
   "nbconvert_exporter": "python",
   "pygments_lexer": "ipython3",
   "version": "3.7.1"
  }
 },
 "nbformat": 4,
 "nbformat_minor": 2
}
